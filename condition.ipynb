{
 "cells": [
  {
   "cell_type": "markdown",
   "metadata": {},
   "source": [
    "## Condition statement"
   ]
  },
  {
   "cell_type": "markdown",
   "metadata": {},
   "source": [
    "- if\n",
    "- if else \n",
    "- elif\n",
    "- nested if"
   ]
  },
  {
   "cell_type": "code",
   "execution_count": 1,
   "metadata": {},
   "outputs": [
    {
     "name": "stdout",
     "output_type": "stream",
     "text": [
      "a is less than b\n",
      "a is less than c\n"
     ]
    }
   ],
   "source": [
    "a=5 \n",
    "b=15\n",
    "c=10\n",
    "if a>b :\n",
    "    print(\"a is greater than b\")\n",
    "if a<b :\n",
    "    print(\"a is less than b\")\n",
    "if a>c :\n",
    "    print(\"a is greater than c\")\n",
    "if a<c :\n",
    "    print(\"a is less than c\")"
   ]
  },
  {
   "cell_type": "code",
   "execution_count": 4,
   "metadata": {},
   "outputs": [
    {
     "name": "stdout",
     "output_type": "stream",
     "text": [
      "number is invalid\n"
     ]
    }
   ],
   "source": [
    "a=5 \n",
    "b=15\n",
    "c=10\n",
    "if a>b :\n",
    "    print(\"a is greater than b\")\n",
    "elif a>b :\n",
    "    print(\"a is less than b\")\n",
    "elif a>c :\n",
    "    print(\"a is greater than c\")\n",
    "elif  a>c :\n",
    "    print(\"a is less than c\")\n",
    "else:\n",
    "    print(\"number is invalid\")"
   ]
  },
  {
   "cell_type": "code",
   "execution_count": 7,
   "metadata": {},
   "outputs": [
    {
     "name": "stdout",
     "output_type": "stream",
     "text": [
      "number is even\n"
     ]
    }
   ],
   "source": [
    "a= int (input(\"enter the number\"))\n",
    "if a%2 == 0:\n",
    "    print(\"number is even\")\n",
    "else:\n",
    "    print(\"number is odd\")"
   ]
  },
  {
   "cell_type": "markdown",
   "metadata": {},
   "source": [
    "## nested if"
   ]
  },
  {
   "cell_type": "code",
   "execution_count": 6,
   "metadata": {},
   "outputs": [
    {
     "name": "stdout",
     "output_type": "stream",
     "text": [
      "you can not enter in the cafe\n"
     ]
    }
   ],
   "source": [
    "age=18\n",
    "id=True\n",
    "if age>18:\n",
    "    if id:\n",
    "          print(\"you can enter\")\n",
    "    else:\n",
    "         print(\" you don not have id\")\n",
    "else:\n",
    "     print(\"you can not enter in the cafe\")\n",
    "\n"
   ]
  },
  {
   "cell_type": "code",
   "execution_count": 7,
   "metadata": {},
   "outputs": [
    {
     "name": "stdout",
     "output_type": "stream",
     "text": [
      "x is not greater than 5\n"
     ]
    }
   ],
   "source": [
    "x=4\n",
    "y=5\n",
    "if x>5:\n",
    "    if y>2:\n",
    "     print(\"both x and y are greater than 5 and 2 , respectively\")\n",
    "    else:\n",
    "       print(\"x is grater than 5 but y is less than 2\")\n",
    "else:\n",
    "   print(\"x is not greater than 5\")\n",
    "      \n"
   ]
  },
  {
   "cell_type": "code",
   "execution_count": null,
   "metadata": {},
   "outputs": [],
   "source": [
    "username =input(\"enter the user name\")\n",
    "email =input (\"enter the email\")\n",
    "pwd = input(\"entet the password\")\n",
    "pwd2 = input(\"enter the password again\")\n",
    "if len(username)>=4 and len(username)<=15:\n",
    "    if'@' in email and len(email)>10:\n",
    "        if pwd == pwd2:\n",
    "            print(\"account created successfully🎉🎉🎉\")\n",
    "        else:\n",
    "            print(\"password doesn't match😊😊\")\n",
    "    else:\n",
    "        print(\"invalid email👍👍\")\n",
    "else:\n",
    "    print(\"invalid user name 👌👌\")\n",
    "                  \n",
    "    "
   ]
  }
 ],
 "metadata": {
  "kernelspec": {
   "display_name": "Python 3",
   "language": "python",
   "name": "python3"
  },
  "language_info": {
   "codemirror_mode": {
    "name": "ipython",
    "version": 3
   },
   "file_extension": ".py",
   "mimetype": "text/x-python",
   "name": "python",
   "nbconvert_exporter": "python",
   "pygments_lexer": "ipython3",
   "version": "3.12.0"
  }
 },
 "nbformat": 4,
 "nbformat_minor": 2
}
