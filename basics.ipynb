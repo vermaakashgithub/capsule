{
 "cells": [
  {
   "cell_type": "code",
   "execution_count": 1,
   "metadata": {},
   "outputs": [
    {
     "name": "stdout",
     "output_type": "stream",
     "text": [
      "10\n"
     ]
    }
   ],
   "source": [
    "a=10 #direct assigning the value to the variable \n",
    "print(a)"
   ]
  },
  {
   "cell_type": "code",
   "execution_count": 3,
   "metadata": {},
   "outputs": [
    {
     "name": "stdout",
     "output_type": "stream",
     "text": [
      "50\n"
     ]
    }
   ],
   "source": [
    "# take input from the user \n",
    "x=input(\"enter the number of x\")\n",
    "print (x)"
   ]
  },
  {
   "cell_type": "code",
   "execution_count": 2,
   "metadata": {},
   "outputs": [
    {
     "name": "stdout",
     "output_type": "stream",
     "text": [
      "16\n",
      "3.2\n"
     ]
    }
   ],
   "source": [
    "a=2\n",
    "b=4\n",
    "c=6\n",
    "d=1\n",
    "e=3\n",
    "print(a+b+c+d+e)\n",
    "f=16\n",
    "print(f/5)"
   ]
  },
  {
   "cell_type": "code",
   "execution_count": null,
   "metadata": {},
   "outputs": [],
   "source": []
  },
  {
   "cell_type": "markdown",
   "metadata": {},
   "source": [
    "## homework"
   ]
  },
  {
   "cell_type": "code",
   "execution_count": 1,
   "metadata": {},
   "outputs": [
    {
     "name": "stdout",
     "output_type": "stream",
     "text": [
      "eligible for voteing\n"
     ]
    }
   ],
   "source": [
    "age= int(input(\"18:\"))\n",
    "if age>= 18:\n",
    "    print(\"eligible for voteing\")\n",
    "else:\n",
    "    print(\"not eligible for voting\")\n"
   ]
  },
  {
   "cell_type": "code",
   "execution_count": 3,
   "metadata": {},
   "outputs": [
    {
     "name": "stdout",
     "output_type": "stream",
     "text": [
      "positive\n"
     ]
    }
   ],
   "source": [
    "a=int(input(\"10\"))\n",
    "if a>5:\n",
    "    print(\"positive\")\n",
    "elif a<0:\n",
    "    print(\"negative\")\n",
    "    "
   ]
  },
  {
   "cell_type": "markdown",
   "metadata": {},
   "source": []
  },
  {
   "cell_type": "code",
   "execution_count": 8,
   "metadata": {},
   "outputs": [
    {
     "name": "stdout",
     "output_type": "stream",
     "text": [
      "C\n"
     ]
    }
   ],
   "source": [
    "percentage = 75\n",
    "if percentage > 90:\n",
    "    grade =\"A\"\n",
    "elif percentage >75:\n",
    "    grade =\"B\"\n",
    "elif percentage >65:\n",
    "    grade = \"C\"\n",
    "elif percentage >55:\n",
    "    grade = \"D\"\n",
    "elif percentage >45:\n",
    "    grade = \"E\"\n",
    "else:\n",
    "    grade =\"F\"\n",
    "print(grade)"
   ]
  },
  {
   "cell_type": "code",
   "execution_count": 9,
   "metadata": {},
   "outputs": [
    {
     "name": "stdout",
     "output_type": "stream",
     "text": [
      "year is not a leap year\n"
     ]
    }
   ],
   "source": [
    "year= 2023\n",
    "if (year %4 == 0):\n",
    "    print(\"year is a leap year\")\n",
    "else:\n",
    "    print(\"year is not a leap year\")\n"
   ]
  },
  {
   "cell_type": "code",
   "execution_count": 10,
   "metadata": {},
   "outputs": [
    {
     "name": "stdout",
     "output_type": "stream",
     "text": [
      "it id=s not possible to make a triangle with these side\n"
     ]
    }
   ],
   "source": [
    "a=2\n",
    "b=4\n",
    "c=6\n",
    "if a+b>c and b+c>a and a+c>b:\n",
    "    print(\"it is possible to make a trianglr with these side\")\n",
    "else:\n",
    "    print(\"it id=s not possible to make a triangle with these side\")"
   ]
  },
  {
   "cell_type": "code",
   "execution_count": 1,
   "metadata": {},
   "outputs": [
    {
     "name": "stdout",
     "output_type": "stream",
     "text": [
      " it is neither an equilateral nor an isoscales triangle\n"
     ]
    }
   ],
   "source": [
    "side1=5\n",
    "side2=10\n",
    "side3=15\n",
    "if side1 == side2 == side3:\n",
    "    print(\"it is equilateral\")\n",
    "elif side1 == side2 or side2 == side3 or side3 ==side1:\n",
    "    print(\"it is an isoscales triangle\")\n",
    "else:\n",
    "    print(\" it is neither an equilateral nor an isoscales triangle\")\n",
    "\n",
    "\n"
   ]
  },
  {
   "cell_type": "code",
   "execution_count": null,
   "metadata": {},
   "outputs": [],
   "source": []
  }
 ],
 "metadata": {
  "kernelspec": {
   "display_name": "Python 3",
   "language": "python",
   "name": "python3"
  },
  "language_info": {
   "codemirror_mode": {
    "name": "ipython",
    "version": 3
   },
   "file_extension": ".py",
   "mimetype": "text/x-python",
   "name": "python",
   "nbconvert_exporter": "python",
   "pygments_lexer": "ipython3",
   "version": "3.12.0"
  }
 },
 "nbformat": 4,
 "nbformat_minor": 2
}
